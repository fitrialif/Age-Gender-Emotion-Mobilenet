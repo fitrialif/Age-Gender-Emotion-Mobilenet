{
 "cells": [
  {
   "cell_type": "code",
   "execution_count": 1,
   "metadata": {},
   "outputs": [],
   "source": [
    "from scipy.misc import imread,imresize\n",
    "import numpy as np\n",
    "from grpc.beta import implementations\n",
    "from tensorflow_serving.apis import predict_pb2\n",
    "from tensorflow_serving.apis import prediction_service_pb2\n",
    "import tensorflow as tf\n",
    "label_emotions = ['anger','contempt','disgust','fear','happy','sadness','surprise']\n",
    "label_genders = ['female','male']"
   ]
  },
  {
   "cell_type": "code",
   "execution_count": 2,
   "metadata": {},
   "outputs": [
    {
     "name": "stderr",
     "output_type": "stream",
     "text": [
      "/usr/local/lib/python3.5/dist-packages/ipykernel_launcher.py:3: DeprecationWarning: `imread` is deprecated!\n",
      "`imread` is deprecated in SciPy 1.0.0, and will be removed in 1.2.0.\n",
      "Use ``imageio.imread`` instead.\n",
      "  This is separate from the ipykernel package so we can avoid doing imports until\n"
     ]
    },
    {
     "data": {
      "text/plain": [
       "(423, 341, 3)"
      ]
     },
     "execution_count": 2,
     "metadata": {},
     "output_type": "execute_result"
    }
   ],
   "source": [
    "server = 'localhost:9000'\n",
    "host, port = server.split(':')\n",
    "img = imread('test/husein.jpg')\n",
    "img.shape"
   ]
  },
  {
   "cell_type": "code",
   "execution_count": 3,
   "metadata": {},
   "outputs": [],
   "source": [
    "channel = implementations.insecure_channel(host, int(port))\n",
    "stub = prediction_service_pb2.beta_create_PredictionService_stub(channel)"
   ]
  },
  {
   "cell_type": "code",
   "execution_count": 4,
   "metadata": {},
   "outputs": [],
   "source": [
    "request = predict_pb2.PredictRequest()\n",
    "request.model_spec.name = 'mobilenet'\n",
    "request.model_spec.signature_name = 'predict_classes'\n",
    "request.inputs['image'].CopyFrom(\n",
    "  tf.contrib.util.make_tensor_proto(img.astype(dtype=np.float32), shape=[423, 341, 3]))"
   ]
  },
  {
   "cell_type": "code",
   "execution_count": 5,
   "metadata": {},
   "outputs": [],
   "source": [
    "result_future = stub.Predict(request, 30.)"
   ]
  },
  {
   "cell_type": "code",
   "execution_count": 18,
   "metadata": {},
   "outputs": [
    {
     "name": "stdout",
     "output_type": "stream",
     "text": [
      "male\n",
      "anger\n",
      "22.0000057220459\n"
     ]
    }
   ],
   "source": [
    "print(label_genders[np.argmax(result_future.outputs['gender'].float_val)])\n",
    "print(label_emotions[np.argmax(result_future.outputs['emotion'].float_val)])\n",
    "print(result_future.outputs['age'].float_val[0]-9)"
   ]
  },
  {
   "cell_type": "code",
   "execution_count": 19,
   "metadata": {},
   "outputs": [
    {
     "name": "stderr",
     "output_type": "stream",
     "text": [
      "/usr/local/lib/python3.5/dist-packages/ipykernel_launcher.py:1: DeprecationWarning: `imread` is deprecated!\n",
      "`imread` is deprecated in SciPy 1.0.0, and will be removed in 1.2.0.\n",
      "Use ``imageio.imread`` instead.\n",
      "  \"\"\"Entry point for launching an IPython kernel.\n"
     ]
    },
    {
     "name": "stdout",
     "output_type": "stream",
     "text": [
      "male\n",
      "surprise\n",
      "22.0\n"
     ]
    }
   ],
   "source": [
    "img = imread('test/another-husein.jpg')\n",
    "request.inputs['image'].CopyFrom(\n",
    "  tf.contrib.util.make_tensor_proto(img.astype(dtype=np.float32), shape=img.shape))\n",
    "result_future = stub.Predict(request, 30.)\n",
    "print(label_genders[np.argmax(result_future.outputs['gender'].float_val)])\n",
    "print(label_emotions[np.argmax(result_future.outputs['emotion'].float_val)])\n",
    "print(result_future.outputs['age'].float_val[0]-9)"
   ]
  },
  {
   "cell_type": "code",
   "execution_count": null,
   "metadata": {},
   "outputs": [],
   "source": []
  }
 ],
 "metadata": {
  "kernelspec": {
   "display_name": "Python 3",
   "language": "python",
   "name": "python3"
  },
  "language_info": {
   "codemirror_mode": {
    "name": "ipython",
    "version": 3
   },
   "file_extension": ".py",
   "mimetype": "text/x-python",
   "name": "python",
   "nbconvert_exporter": "python",
   "pygments_lexer": "ipython3",
   "version": "3.5.2"
  }
 },
 "nbformat": 4,
 "nbformat_minor": 2
}
