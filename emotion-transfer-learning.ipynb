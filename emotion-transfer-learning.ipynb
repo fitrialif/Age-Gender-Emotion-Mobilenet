{
 "cells": [
  {
   "cell_type": "code",
   "execution_count": 1,
   "metadata": {},
   "outputs": [
    {
     "data": {
      "text/plain": [
       "'1.5.0'"
      ]
     },
     "execution_count": 1,
     "metadata": {},
     "output_type": "execute_result"
    }
   ],
   "source": [
    "import tensorflow as tf\n",
    "import tensorflow.contrib.slim as slim\n",
    "import numpy as np\n",
    "import os\n",
    "from scipy.misc import imread,imresize\n",
    "from random import shuffle\n",
    "from sklearn.preprocessing import LabelEncoder\n",
    "import matplotlib.pyplot as plt\n",
    "from tqdm import tqdm\n",
    "import mobilenet_v2\n",
    "tf.__version__"
   ]
  },
  {
   "cell_type": "markdown",
   "metadata": {},
   "source": [
    "Make sure you download this data and extract in the same directory,\n",
    "\n",
    "https://drive.google.com/open?id=1V9fy_Me9ZjmMTJoTWz0L8AUdIW5k35bE"
   ]
  },
  {
   "cell_type": "code",
   "execution_count": null,
   "metadata": {},
   "outputs": [],
   "source": [
    "checkpoint_name = 'mobilenet_v2_1.0_224'\n",
    "checkpoint = checkpoint_name + '.ckpt'"
   ]
  },
  {
   "cell_type": "code",
   "execution_count": 2,
   "metadata": {},
   "outputs": [],
   "source": [
    "batch_size = 16\n",
    "epoch = 100\n",
    "learning_rate = 1e-3\n",
    "data_location = 'Crop/'"
   ]
  },
  {
   "cell_type": "code",
   "execution_count": 3,
   "metadata": {},
   "outputs": [],
   "source": [
    "img_lists = os.listdir(data_location)\n",
    "shuffle(img_lists)\n",
    "img_labels = [i.split('--')[0] for i in img_lists]\n",
    "img_Y = LabelEncoder().fit_transform(img_labels)\n",
    "img_lists = [data_location+i for i in img_lists]"
   ]
  },
  {
   "cell_type": "code",
   "execution_count": null,
   "metadata": {},
   "outputs": [],
   "source": [
    "tf.reset_default_graph()\n",
    "sess = tf.InteractiveSession()\n",
    "X = tf.placeholder(tf.float32,[None,224,224,1])\n",
    "Y = tf.placeholder(tf.int32, [None])\n",
    "images = tf.image.grayscale_to_rgb(X)\n",
    "images = images / 128. - 1\n",
    "with tf.contrib.slim.arg_scope(mobilenet_v2.training_scope(is_training=True)):\n",
    "    logits, endpoints = mobilenet_v2.mobilenet(images)\n",
    "logits = tf.nn.relu6(logits)\n",
    "emotion_logits = slim.fully_connected(logits, 7, activation_fn=None,\n",
    "                                      weights_initializer=tf.truncated_normal_initializer(stddev=0.01),\n",
    "                                      weights_regularizer=slim.l2_regularizer(1e-5),\n",
    "                                      scope='emo/emotion_1', reuse=False)\n",
    "emotion_cross_entropy = tf.nn.sparse_softmax_cross_entropy_with_logits(labels=Y, logits=emotion_logits)\n",
    "cost = tf.reduce_mean(emotion_cross_entropy)\n",
    "emotion_accuracy = tf.reduce_mean(tf.cast(tf.nn.in_top_k(emotion_logits, Y, 1), tf.float32))\n",
    "global_step = tf.Variable(0, name=\"global_step\", trainable=False)\n",
    "# only train on our emotion layers\n",
    "optimizer = tf.train.AdamOptimizer(learning_rate).minimize(cost)\n",
    "\n",
    "sess.run(tf.global_variables_initializer())\n",
    "var_lists = tf.get_collection(tf.GraphKeys.TRAINABLE_VARIABLES, scope = 'MobilenetV2')\n",
    "saver = tf.train.Saver(var_list = var_lists)\n",
    "saver.restore(sess, checkpoint)\n",
    "saver = tf.train.Saver(tf.global_variables())\n",
    "# test save\n",
    "saver.save(sess, \"checkpoints/emotion-checkpoint-mobilenet.ckpt\")"
   ]
  },
  {
   "cell_type": "code",
   "execution_count": null,
   "metadata": {},
   "outputs": [],
   "source": [
    "\n",
    "batching = (len(img_lists) // batch_size) * batch_size\n",
    "for i in range(epoch):\n",
    "    total_loss, total_acc = 0, 0\n",
    "    for k in tqdm(range(0, batching, batch_size),desc='minibatch loop'):\n",
    "        batch_x = np.zeros((batch_size, 224,224,1))\n",
    "        for n in range(batch_size):\n",
    "            img = imresize(imread(img_lists[k+n]), (224,224))\n",
    "            batch_x[n,:,:,0] = img\n",
    "        loss, acc, _ = sess.run([cost,emotion_accuracy,optimizer],\n",
    "                                feed_dict={X:batch_x,Y:img_Y[k:k+batch_size]})\n",
    "        total_loss += loss\n",
    "        total_acc += acc\n",
    "    total_loss /= (len(img_lists) // batch_size)\n",
    "    total_acc /= (len(img_lists) // batch_size)\n",
    "    print('epoch: %d, avg loss: %f, avg accuracy: %f'%(i+1,total_loss,total_acc))\n",
    "    saver.save(sess, \"checkpoints/emotion-checkpoint-mobilenet.ckpt\")"
   ]
  },
  {
   "cell_type": "code",
   "execution_count": null,
   "metadata": {},
   "outputs": [],
   "source": [
    "label_emotions = ['anger','contempt','disgust','fear','happy','sadness','surprise']"
   ]
  }
 ],
 "metadata": {
  "kernelspec": {
   "display_name": "Python 3",
   "language": "python",
   "name": "python3"
  },
  "language_info": {
   "codemirror_mode": {
    "name": "ipython",
    "version": 3
   },
   "file_extension": ".py",
   "mimetype": "text/x-python",
   "name": "python",
   "nbconvert_exporter": "python",
   "pygments_lexer": "ipython3",
   "version": "3.5.2"
  }
 },
 "nbformat": 4,
 "nbformat_minor": 2
}
