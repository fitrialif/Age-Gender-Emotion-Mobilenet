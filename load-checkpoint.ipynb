{
 "cells": [
  {
   "cell_type": "code",
   "execution_count": 1,
   "metadata": {},
   "outputs": [],
   "source": [
    "import tensorflow as tf\n",
    "from scipy.misc import imread,imresize\n",
    "import mobilenet_v2\n",
    "import mobilenet\n",
    "import numpy as np\n",
    "import conv_blocks as op\n",
    "import tensorflow.contrib.slim as slim"
   ]
  },
  {
   "cell_type": "code",
   "execution_count": 2,
   "metadata": {},
   "outputs": [
    {
     "name": "stdout",
     "output_type": "stream",
     "text": [
      "INFO:tensorflow:Restoring parameters from new/combine-checkpoint-mobilenet.ckpt\n"
     ]
    }
   ],
   "source": [
    "tf.reset_default_graph()\n",
    "sess = tf.InteractiveSession()\n",
    "\n",
    "\n",
    "X = tf.placeholder(tf.float32,[None,None,None])\n",
    "images = tf.expand_dims(X,axis=0)\n",
    "images = tf.image.resize_images(images,[224,224])\n",
    "images = tf.image.rgb_to_grayscale(images)\n",
    "images = tf.image.grayscale_to_rgb(images)\n",
    "images = images / 128. - 1\n",
    "with tf.contrib.slim.arg_scope(mobilenet_v2.training_scope(is_training=True)):\n",
    "    logits, endpoints = mobilenet_v2.mobilenet(images)\n",
    "logits = tf.nn.relu6(logits)\n",
    "emotion_logits = slim.fully_connected(logits, 7, activation_fn=None,\n",
    "                                      weights_initializer=tf.truncated_normal_initializer(stddev=0.01),\n",
    "                                      weights_regularizer=slim.l2_regularizer(1e-5),\n",
    "                                      scope='emo/emotion_1', reuse=False)\n",
    "\n",
    "with tf.variable_scope(\"age\"):\n",
    "    age1=op.expanded_conv(endpoints['layer_16'],160,stride=1)\n",
    "    age2=op.expanded_conv(age1,320,stride=1)\n",
    "    age3=mobilenet.global_pool(op.expanded_conv(age2,1280,stride=1,kernel_size=[1, 1]))\n",
    "    age_logits=slim.conv2d(age3,101, [1, 1],activation_fn=None,normalizer_fn=None,\n",
    "                biases_initializer=tf.zeros_initializer(),scope='Conv2d_1c_1x1')\n",
    "    age_logits = tf.squeeze(age_logits, [1, 2])\n",
    "    \n",
    "with tf.variable_scope(\"gender\"):\n",
    "    gender1=op.expanded_conv(endpoints['layer_16'],160,stride=1)\n",
    "    gender2=op.expanded_conv(gender1,320,stride=1)\n",
    "    gender3=mobilenet.global_pool(op.expanded_conv(gender2,1280,stride=1,kernel_size=[1, 1]))\n",
    "    gender_logits=slim.conv2d(gender3,2, [1, 1],activation_fn=None,normalizer_fn=None,\n",
    "                biases_initializer=tf.zeros_initializer(),scope='Conv2d_1c_1x1')\n",
    "    gender_logits = tf.squeeze(gender_logits, [1, 2])\n",
    "    \n",
    "age_ = tf.cast(tf.constant([i for i in range(0, 101)]), tf.float32)\n",
    "age = tf.reduce_sum(tf.multiply(tf.nn.softmax(age_logits), age_), axis=1)\n",
    "\n",
    "sess.run(tf.global_variables_initializer())\n",
    "saver = tf.train.Saver(tf.global_variables())\n",
    "saver.restore(sess, \"checkpoints/combine-checkpoint-mobilenet.ckpt\")"
   ]
  },
  {
   "cell_type": "code",
   "execution_count": 3,
   "metadata": {},
   "outputs": [
    {
     "name": "stderr",
     "output_type": "stream",
     "text": [
      "/usr/local/lib/python3.5/dist-packages/ipykernel_launcher.py:1: DeprecationWarning: `imread` is deprecated!\n",
      "`imread` is deprecated in SciPy 1.0.0, and will be removed in 1.2.0.\n",
      "Use ``imageio.imread`` instead.\n",
      "  \"\"\"Entry point for launching an IPython kernel.\n"
     ]
    }
   ],
   "source": [
    "img = imread('test/indoor_007.png')\n",
    "results=sess.run([emotion_logits,gender_logits,age],feed_dict={X:img})"
   ]
  },
  {
   "cell_type": "code",
   "execution_count": 4,
   "metadata": {},
   "outputs": [
    {
     "name": "stdout",
     "output_type": "stream",
     "text": [
      "disgust\n",
      "male\n"
     ]
    },
    {
     "data": {
      "text/plain": [
       "35.344078063964844"
      ]
     },
     "execution_count": 4,
     "metadata": {},
     "output_type": "execute_result"
    }
   ],
   "source": [
    "label_emotions = ['anger','contempt','disgust','fear','happy','sadness','surprise']\n",
    "label_genders = ['female','male']\n",
    "print(label_emotions[np.argmax(results[0][0])])\n",
    "print(label_genders[np.argmax(results[1][0])])\n",
    "results[2][0]-9"
   ]
  },
  {
   "cell_type": "code",
   "execution_count": 5,
   "metadata": {},
   "outputs": [
    {
     "name": "stdout",
     "output_type": "stream",
     "text": [
      "anger\n",
      "male\n"
     ]
    },
    {
     "name": "stderr",
     "output_type": "stream",
     "text": [
      "/usr/local/lib/python3.5/dist-packages/ipykernel_launcher.py:1: DeprecationWarning: `imread` is deprecated!\n",
      "`imread` is deprecated in SciPy 1.0.0, and will be removed in 1.2.0.\n",
      "Use ``imageio.imread`` instead.\n",
      "  \"\"\"Entry point for launching an IPython kernel.\n"
     ]
    },
    {
     "data": {
      "text/plain": [
       "22.000001907348633"
      ]
     },
     "execution_count": 5,
     "metadata": {},
     "output_type": "execute_result"
    }
   ],
   "source": [
    "img = imread('test/husein.jpg')\n",
    "results=sess.run([emotion_logits,gender_logits,age],feed_dict={X:img})\n",
    "label_emotions = ['anger','contempt','disgust','fear','happy','sadness','surprise']\n",
    "label_genders = ['female','male']\n",
    "print(label_emotions[np.argmax(results[0][0])])\n",
    "print(label_genders[np.argmax(results[1][0])])\n",
    "results[2][0]-9"
   ]
  },
  {
   "cell_type": "code",
   "execution_count": 6,
   "metadata": {},
   "outputs": [
    {
     "name": "stdout",
     "output_type": "stream",
     "text": [
      "surprise\n",
      "male\n"
     ]
    },
    {
     "name": "stderr",
     "output_type": "stream",
     "text": [
      "/usr/local/lib/python3.5/dist-packages/ipykernel_launcher.py:1: DeprecationWarning: `imread` is deprecated!\n",
      "`imread` is deprecated in SciPy 1.0.0, and will be removed in 1.2.0.\n",
      "Use ``imageio.imread`` instead.\n",
      "  \"\"\"Entry point for launching an IPython kernel.\n"
     ]
    },
    {
     "data": {
      "text/plain": [
       "22.0"
      ]
     },
     "execution_count": 6,
     "metadata": {},
     "output_type": "execute_result"
    }
   ],
   "source": [
    "img = imread('test/another-husein.jpg')\n",
    "results=sess.run([emotion_logits,gender_logits,age],feed_dict={X:img})\n",
    "label_emotions = ['anger','contempt','disgust','fear','happy','sadness','surprise']\n",
    "label_genders = ['female','male']\n",
    "print(label_emotions[np.argmax(results[0][0])])\n",
    "print(label_genders[np.argmax(results[1][0])])\n",
    "results[2][0]-9"
   ]
  },
  {
   "cell_type": "code",
   "execution_count": null,
   "metadata": {},
   "outputs": [],
   "source": []
  }
 ],
 "metadata": {
  "kernelspec": {
   "display_name": "Python 3",
   "language": "python",
   "name": "python3"
  },
  "language_info": {
   "codemirror_mode": {
    "name": "ipython",
    "version": 3
   },
   "file_extension": ".py",
   "mimetype": "text/x-python",
   "name": "python",
   "nbconvert_exporter": "python",
   "pygments_lexer": "ipython3",
   "version": "3.5.2"
  }
 },
 "nbformat": 4,
 "nbformat_minor": 2
}
